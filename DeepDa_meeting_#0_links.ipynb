{
 "cells": [
  {
   "cell_type": "markdown",
   "metadata": {},
   "source": [
    "## Deep DA\n",
    "---\n",
    "\n"
   ]
  },
  {
   "cell_type": "markdown",
   "metadata": {},
   "source": [
    "__\n",
    "\n",
    "\n",
    "\n",
    "__\n"
   ]
  },
  {
   "cell_type": "markdown",
   "metadata": {},
   "source": [
    "----\n",
    "##### Conclusion from the kick-off deepDa meeting:\n",
    "\n",
    "##### Courses:\n",
    "<br>\n",
    "<br>\n",
    "Stanford CS231 cource: http://cs231n.stanford.edu/syllabus.html\n",
    "\n",
    "Stanford CS229 course: https://see.stanford.edu/Course/CS229\n",
    "\n",
    "Stanford CS20  course: http://web.stanford.edu/class/cs20si/syllabus.html\n",
    "\n",
    "Coursera: https://www.coursera.org/specializations/deep-learning\n",
    "\n",
    "Fast.ai: http://www.fast.ai/\n",
    "\n",
    "edx \"Analytics edge cource\": https://courses.edx.org/courses/course-v1:MITx+15.071x+2T2017/course/\n",
    "\n",
    "<br>\n",
    "<br>\n",
    "##### Code examples: \n",
    "\n",
    "Hipsterize dogs: http://blog.dlib.net/2016/10/hipsterize-your-dog-with-deep-learning.html\n",
    "\n",
    "<br>\n",
    "<br>\n",
    "##### Blogs: \n",
    "http://deeplearning.net/\n",
    "http://www.statsmakemecry.com/smmctheblog/\n",
    "\n",
    "\n",
    "<br>\n",
    "<br>\n",
    "##### Up to date publication reviews:\n",
    "\n",
    "Two-minute-papers: https://www.youtube.com/playlist?list=PLujxSBD-JXgnqDD1n-V30pKtp6Q886x7e\n",
    "\n",
    "\n"
   ]
  },
  {
   "cell_type": "markdown",
   "metadata": {},
   "source": [
    "<br>\n",
    "<br>\n",
    "\n",
    "Note:\n",
    "<br>\n",
    "There are lots of resources to learn and practically implement DL into a project or product. Lot of code examples, courses and tutorials are available and prepared for testing and exploring. \n",
    "The goal of the learning group would be to \"let the code through the fingers\" - to do the exercises. \n",
    "<br>\n",
    "Focus would be on project based work that encapsulates a topic and a concept.\n",
    "<br>\n",
    "\n",
    "\n"
   ]
  },
  {
   "cell_type": "code",
   "execution_count": null,
   "metadata": {},
   "outputs": [],
   "source": []
  }
 ],
 "metadata": {
  "kernelspec": {
   "display_name": "Python 3",
   "language": "python",
   "name": "python3"
  },
  "language_info": {
   "codemirror_mode": {
    "name": "ipython",
    "version": 3
   },
   "file_extension": ".py",
   "mimetype": "text/x-python",
   "name": "python",
   "nbconvert_exporter": "python",
   "pygments_lexer": "ipython3",
   "version": "3.5.2"
  }
 },
 "nbformat": 4,
 "nbformat_minor": 2
}
